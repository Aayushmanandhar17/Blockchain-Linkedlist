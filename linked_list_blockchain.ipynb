{
 "cells": [
  {
   "cell_type": "code",
   "execution_count": 247,
   "metadata": {},
   "outputs": [],
   "source": [
    "#importing the date and time\n",
    "import datetime\n",
    "#Use to hash the block\n",
    "import hashlib\n"
   ]
  },
  {
   "cell_type": "code",
   "execution_count": 248,
   "metadata": {},
   "outputs": [],
   "source": [
    "class Node:\n",
    "    def __init__(self):\n",
    "        self.date=str(datetime.datetime.now())\n",
    "        self.data=None\n",
    "        self.previous_hash=None\n",
    "        self.nonce=None\n",
    "        self.ref=None"
   ]
  },
  {
   "cell_type": "code",
   "execution_count": 249,
   "metadata": {},
   "outputs": [],
   "source": [
    "class block_chain:\n",
    "    def __init__(self):\n",
    "        self.head=None\n",
    "    def create_first_block(self,node,data):\n",
    "        node.previous_hash=0\n",
    "        node.nonce=1\n",
    "        node.data=data\n",
    "        \n",
    "    def create_block(self,data=None):\n",
    "        new_node=Node()\n",
    "        if self.head is None:\n",
    "            self.create_first_block(new_node,data)\n",
    "            self.head=new_node\n",
    "            \n",
    "            \n",
    "            return\n",
    "        else:\n",
    "            n=self.head\n",
    "            while n.ref is not None:\n",
    "                n=n.ref\n",
    "            n.ref=new_node\n",
    "            new_node.data=data\n",
    "            new_node.nonce=self.mine_nonce(n.nonce)\n",
    "            new_node.previous_hash=self.block_hash(n)\n",
    "            \n",
    "    \n",
    "    def block_hash(self,block):\n",
    "        hash_data=block.date+str(block.previous_hash)+str(block.nonce)+str(block.data)\n",
    "        return hashlib.sha256(hash_data.encode()).hexdigest()\n",
    "    \n",
    "    def mine_nonce(self,previous_nonce):\n",
    "        new_nonce=1\n",
    "        check_nonce=False\n",
    "        while check_nonce is False:\n",
    "            #sha256 only takes string\n",
    "            hash_operation=hashlib.sha256(str((new_nonce**2*previous_nonce**2)//new_nonce).encode()).hexdigest()\n",
    "            if hash_operation[:5]=='00000':\n",
    "                check_nonce=True\n",
    "            else:\n",
    "                new_nonce +=1\n",
    "        \n",
    "        return new_nonce\n",
    "    \n",
    "    def traverse_block_chain(self):\n",
    "        if self.head is None:\n",
    "            print(\"The block_chain is empty\")\n",
    "            return\n",
    "        else:\n",
    "            n=self.head\n",
    "            self.print_node(n)\n",
    "            while n.ref is not None:\n",
    "                n=n.ref\n",
    "                self.print_node(n)\n",
    "    def validation(self):\n",
    "        if self.head is None:\n",
    "            print(\"The block_chain is empty\")\n",
    "            return\n",
    "        else:\n",
    "            n=self.head\n",
    "            i=0\n",
    "            while n.ref is not None:\n",
    "                if self.block_hash(n)!=n.ref.previous_hash:\n",
    "                    print(f\"The node in pos {i} has been tampered\")\n",
    "                    return False\n",
    "                \n",
    "                n=n.ref\n",
    "                i=i+1\n",
    "            return True\n",
    "    \n",
    "    def chain_size(self):\n",
    "        n=self.head\n",
    "        count=0\n",
    "        while n.ref is not None:\n",
    "            n=n.ref\n",
    "            count=count+1\n",
    "        return count\n",
    "    \n",
    "    def tamper_node(self,pos,nonce):\n",
    "        if pos>self.chain_size():\n",
    "            print(\"Position out of bound\")\n",
    "            return\n",
    "        n=self.head\n",
    "        for i in range(pos):\n",
    "            n=n.ref\n",
    "        n.nonce=nonce\n",
    "\n",
    "    def print_node(self,node): \n",
    "        print(f\"Date: {node.date}\\n Nonce: {node.nonce} \\n Previous_hash: {node.previous_hash} \\n Data: {node.data}\")\n",
    "        print(\"                ****************************\")\n",
    "    \n",
    "    #Test to Tamper the data\n",
    "    #Disregard this function\n",
    "    def store_transaction(self,data):\n",
    "        n=self.head\n",
    "        size=0\n",
    "        status=False\n",
    "        while status is False:\n",
    "            if n.ref is None:\n",
    "                print(\"Mine block first\")\n",
    "                return\n",
    "            else:\n",
    "                size=len(n.data)\n",
    "                if(size<3):\n",
    "                    n.data.append(data)\n",
    "                    status=True\n",
    "                    \n",
    "                else:\n",
    "                    n=n.ref\n",
    "\n",
    "\n",
    "\n",
    "            "
   ]
  },
  {
   "cell_type": "code",
   "execution_count": 250,
   "metadata": {},
   "outputs": [],
   "source": [
    "my_chain=block_chain()\n",
    "data_list=[\"Aayush paid Tristy $5\", \"Bought 4 Bitcoins\"]\n",
    "data_list1=[\"Aayush spent $12\", \"Bought 35 Bitcoins\"]\n",
    "data_list2=[3,5,12,8]\n",
    "data_list3=[\"Sold 25 Bitcoins\", \"Deposited Money $45\", \"Exchange\"]"
   ]
  },
  {
   "cell_type": "code",
   "execution_count": 251,
   "metadata": {},
   "outputs": [],
   "source": [
    "\n",
    "my_chain.create_block(data_list)\n",
    "my_chain.create_block(data_list1)\n",
    "my_chain.create_block(data_list2)\n",
    "my_chain.create_block(data_list3)"
   ]
  },
  {
   "cell_type": "code",
   "execution_count": 252,
   "metadata": {},
   "outputs": [
    {
     "name": "stdout",
     "output_type": "stream",
     "text": [
      "Date: 2021-01-21 16:54:06.789765\n",
      " Nonce: 1 \n",
      " Previous_hash: 0 \n",
      " Data: ['Aayush paid Tristy $5', 'Bought 4 Bitcoins']\n",
      "                ****************************\n",
      "Date: 2021-01-21 16:54:06.789765\n",
      " Nonce: 596138 \n",
      " Previous_hash: d5a0bddc50bb34acb3adacfb0c07bdce711a875d138b1541917e43384bb5fffe \n",
      " Data: ['Aayush spent $12', 'Bought 35 Bitcoins']\n",
      "                ****************************\n",
      "Date: 2021-01-21 16:54:08.187030\n",
      " Nonce: 1413284 \n",
      " Previous_hash: c4a3eda8db804ddc9bb7f8e085951ee474a53373b89ec36ee1c6f42a0ef33d55 \n",
      " Data: [3, 5, 12, 8]\n",
      "                ****************************\n",
      "Date: 2021-01-21 16:54:11.708654\n",
      " Nonce: 64719 \n",
      " Previous_hash: 3c916dfef8900289ec9d52bc2429b105613ad2059df345e8a9f5ac10f420d3ae \n",
      " Data: ['Sold 25 Bitcoins', 'Deposited Money $45', 'Exchange']\n",
      "                ****************************\n"
     ]
    }
   ],
   "source": [
    "my_chain.traverse_block_chain()"
   ]
  },
  {
   "cell_type": "code",
   "execution_count": 253,
   "metadata": {},
   "outputs": [
    {
     "data": {
      "text/plain": [
       "True"
      ]
     },
     "execution_count": 253,
     "metadata": {},
     "output_type": "execute_result"
    }
   ],
   "source": [
    "my_chain.validation()"
   ]
  },
  {
   "cell_type": "code",
   "execution_count": null,
   "metadata": {},
   "outputs": [],
   "source": []
  }
 ],
 "metadata": {
  "kernelspec": {
   "display_name": "Python 3",
   "language": "python",
   "name": "python3"
  },
  "language_info": {
   "codemirror_mode": {
    "name": "ipython",
    "version": 3
   },
   "file_extension": ".py",
   "mimetype": "text/x-python",
   "name": "python",
   "nbconvert_exporter": "python",
   "pygments_lexer": "ipython3",
   "version": "3.7.6"
  }
 },
 "nbformat": 4,
 "nbformat_minor": 4
}
