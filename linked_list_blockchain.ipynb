{
 "cells": [
  {
   "cell_type": "code",
   "execution_count": 185,
   "metadata": {},
   "outputs": [],
   "source": [
    "#importing the date and time\n",
    "import datetime\n",
    "#Use to hash the block\n",
    "import hashlib"
   ]
  },
  {
   "cell_type": "code",
   "execution_count": 186,
   "metadata": {},
   "outputs": [],
   "source": [
    "class Node:\n",
    "    def __init__(self):\n",
    "        self.date=str(datetime.datetime.now())\n",
    "        self.previous_hash=None\n",
    "        self.proof=None\n",
    "        self.ref=None"
   ]
  },
  {
   "cell_type": "code",
   "execution_count": 187,
   "metadata": {},
   "outputs": [],
   "source": [
    "class block_chain:\n",
    "    def __init__(self):\n",
    "        self.head=None\n",
    "        \n",
    "    def create_block(self):\n",
    "        new_node=Node()\n",
    "        if self.head is None:\n",
    "            self.head=new_node\n",
    "            new_node.proof=1\n",
    "            new_node.previous_hash=0\n",
    "            return\n",
    "        else:\n",
    "            n=self.head\n",
    "            while n.ref is not None:\n",
    "                n=n.ref\n",
    "            n.ref=new_node\n",
    "            new_node.proof=self.generate_proof(n.proof)\n",
    "            new_node.previous_hash=self.block_hash(n)\n",
    "    \n",
    "    def block_hash(self,block):\n",
    "        hash_data=block.date+str(block.previous_hash)+str(block.proof)\n",
    "        return hashlib.sha256(hash_data.encode()).hexdigest()\n",
    "    \n",
    "    def generate_proof(self,previous_proof):\n",
    "        new_proof=1\n",
    "        check_proof=False\n",
    "        while check_proof is False:\n",
    "            #sha256 only takes string\n",
    "            hash_operation=hashlib.sha256(str((new_proof**2*previous_proof**2)//new_proof).encode()).hexdigest()\n",
    "            if hash_operation[:5]=='00000':\n",
    "                check_proof=True\n",
    "            else:\n",
    "                new_proof +=1\n",
    "        \n",
    "        return new_proof\n",
    "    \n",
    "    def traverse_block_chain(self):\n",
    "        if self.head is None:\n",
    "            print(\"The block_chain is empty\")\n",
    "        else:\n",
    "            n=self.head\n",
    "            self.print_node(n)\n",
    "            while n.ref is not None:\n",
    "                n=n.ref\n",
    "                self.print_node(n)\n",
    "               \n",
    "    def print_node(self,node):\n",
    "         print(f\"Date: {node.date} Nonce: {node.proof} Previous_hash: {node.previous_hash}\")\n",
    "\n",
    "            "
   ]
  },
  {
   "cell_type": "code",
   "execution_count": 188,
   "metadata": {},
   "outputs": [],
   "source": [
    "my_chain=block_chain()\n"
   ]
  },
  {
   "cell_type": "code",
   "execution_count": 189,
   "metadata": {},
   "outputs": [],
   "source": [
    "\n",
    "my_chain.create_block()\n",
    "my_chain.create_block()\n",
    "my_chain.create_block()\n",
    "my_chain.create_block()\n",
    "my_chain.create_block()\n",
    "my_chain.create_block()"
   ]
  },
  {
   "cell_type": "code",
   "execution_count": 184,
   "metadata": {},
   "outputs": [
    {
     "name": "stdout",
     "output_type": "stream",
     "text": [
      "Date: 2021-01-21 13:09:32.249049 Nonce: 1 Previous_hash: 0\n",
      "Date: 2021-01-21 13:09:32.249049 Nonce: 596138 Previous_hash: d30f4633c1afa0d553fd79232fe32003e5e4a267a267589b31818c69c3d98502\n",
      "Date: 2021-01-21 13:09:33.635370 Nonce: 1413284 Previous_hash: fbab459f8378e37068e1fe54f8a7002dc2119bbe9217b416dda544bda41a22fe\n",
      "Date: 2021-01-21 13:09:36.969461 Nonce: 64719 Previous_hash: dbfd40664e9aab38a435de5910fd62aa4e42e75d01a755e1acb0cfed9bf11fdb\n",
      "Date: 2021-01-21 13:09:37.120058 Nonce: 285826 Previous_hash: bcee9883efff2c1a99c74691d5b530b15e9397b5cb0cabc15493225fa0ddbc31\n",
      "Date: 2021-01-21 13:09:37.800240 Nonce: 1533642 Previous_hash: 9b9ab5657a5fdacd4df96e2c40bf5de56470f3dff9363fc15a2e72f1fa78c71e\n"
     ]
    }
   ],
   "source": [
    "my_chain.traverse_block_chain()"
   ]
  }
 ],
 "metadata": {
  "kernelspec": {
   "display_name": "Python 3",
   "language": "python",
   "name": "python3"
  },
  "language_info": {
   "codemirror_mode": {
    "name": "ipython",
    "version": 3
   },
   "file_extension": ".py",
   "mimetype": "text/x-python",
   "name": "python",
   "nbconvert_exporter": "python",
   "pygments_lexer": "ipython3",
   "version": "3.7.6"
  }
 },
 "nbformat": 4,
 "nbformat_minor": 4
}
