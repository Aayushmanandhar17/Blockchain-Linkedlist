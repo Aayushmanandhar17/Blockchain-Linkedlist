{
 "cells": [
  {
   "cell_type": "code",
   "execution_count": 255,
   "metadata": {},
   "outputs": [],
   "source": [
    "#importing the date and time\n",
    "import datetime\n",
    "#Use to hash the block\n",
    "import hashlib"
   ]
  },
  {
   "cell_type": "code",
   "execution_count": 267,
   "metadata": {},
   "outputs": [],
   "source": [
    "class Node:\n",
    "    def __init__(self):\n",
    "        self.date=str(datetime.datetime.now())\n",
    "        self.previous_hash=None\n",
    "        self.proof=None\n",
    "        self.ref=None"
   ]
  },
  {
   "cell_type": "code",
   "execution_count": 284,
   "metadata": {},
   "outputs": [],
   "source": [
    "class block_chain:\n",
    "    def __init__(self):\n",
    "        self.head=None\n",
    "    def create_first_block(self,node):\n",
    "        node.previous_hash=0\n",
    "        node.proof=1\n",
    "        \n",
    "    def create_block(self):\n",
    "        new_node=Node()\n",
    "        if self.head is None:\n",
    "            self.create_first_block(new_node)\n",
    "            self.head=new_node\n",
    "            return\n",
    "        else:\n",
    "            n=self.head\n",
    "            while n.ref is not None:\n",
    "                n=n.ref\n",
    "            n.ref=new_node\n",
    "            new_node.proof=self.mine_nonce(n.proof)\n",
    "            new_node.previous_hash=self.block_hash(n)\n",
    "    \n",
    "    def block_hash(self,block):\n",
    "        hash_data=block.date+str(block.previous_hash)+str(block.proof)\n",
    "        return hashlib.sha256(hash_data.encode()).hexdigest()\n",
    "    \n",
    "    def mine_nonce(self,previous_proof):\n",
    "        new_proof=1\n",
    "        check_proof=False\n",
    "        while check_proof is False:\n",
    "            #sha256 only takes string\n",
    "            hash_operation=hashlib.sha256(str((new_proof**2*previous_proof**2)//new_proof).encode()).hexdigest()\n",
    "            if hash_operation[:5]=='00000':\n",
    "                check_proof=True\n",
    "            else:\n",
    "                new_proof +=1\n",
    "        \n",
    "        return new_proof\n",
    "    \n",
    "    def traverse_block_chain(self):\n",
    "        if self.head is None:\n",
    "            print(\"The block_chain is empty\")\n",
    "            return\n",
    "        else:\n",
    "            n=self.head\n",
    "            self.print_node(n)\n",
    "            while n.ref is not None:\n",
    "                n=n.ref\n",
    "                self.print_node(n)\n",
    "    def validation(self):\n",
    "        if self.head is None:\n",
    "            print(\"The block_chain is empty\")\n",
    "            return\n",
    "        else:\n",
    "            n=self.head\n",
    "            i=0\n",
    "            while n.ref is not None:\n",
    "                if self.block_hash(n)!=n.ref.previous_hash:\n",
    "                    print(f\"The node in pos {i} has been tampered\")\n",
    "                    return False\n",
    "                n=n.ref\n",
    "                i=i+1\n",
    "            return True\n",
    "    \n",
    "    def chain_size(self):\n",
    "        n=self.head\n",
    "        count=0\n",
    "        while n.ref is not None:\n",
    "            n=n.ref\n",
    "            count=count+1\n",
    "        return count\n",
    "    \n",
    "    def tamper_node(self,pos,proof):\n",
    "       \n",
    "        if pos>self.chain_size():\n",
    "            print(\"Position out of bound\")\n",
    "            return\n",
    "        n=self.head\n",
    "        for i in range(pos):\n",
    "            n=n.ref\n",
    "        n.proof=proof\n",
    "               \n",
    "    def print_node(self,node):\n",
    "         print(f\"Date: {node.date} Nonce: {node.proof} Previous_hash: {node.previous_hash}\")\n",
    "\n",
    "            "
   ]
  },
  {
   "cell_type": "code",
   "execution_count": 285,
   "metadata": {},
   "outputs": [],
   "source": [
    "my_chain=block_chain()\n"
   ]
  },
  {
   "cell_type": "code",
   "execution_count": 286,
   "metadata": {},
   "outputs": [],
   "source": [
    "\n",
    "my_chain.create_block()\n",
    "my_chain.create_block()\n",
    "my_chain.create_block()\n",
    "my_chain.create_block()\n",
    "my_chain.create_block()"
   ]
  },
  {
   "cell_type": "code",
   "execution_count": 287,
   "metadata": {},
   "outputs": [
    {
     "name": "stdout",
     "output_type": "stream",
     "text": [
      "Date: 2021-01-21 14:46:03.822945 Nonce: 1 Previous_hash: 0\n",
      "Date: 2021-01-21 14:46:03.822945 Nonce: 596138 Previous_hash: ee913d59da98d1c4bf5bed1b0d79bc914b4bf1f9443eb1663b550f2d5227c12f\n",
      "Date: 2021-01-21 14:46:05.318945 Nonce: 1413284 Previous_hash: b7b78266fd63f499466b156231fdb3392d3c75653dea37ce4000ab35015773c8\n",
      "Date: 2021-01-21 14:46:08.973206 Nonce: 64719 Previous_hash: 5ba1808e4b66c7a26db964a070f003e283b7f0b86ab4a54d0a2b94a20bc1b151\n",
      "Date: 2021-01-21 14:46:09.141756 Nonce: 285826 Previous_hash: f5cbd19ef4b4ece19a8b1521b296587def4986375504f2c62ffa8fc4f79a5406\n"
     ]
    }
   ],
   "source": [
    "my_chain.traverse_block_chain()"
   ]
  },
  {
   "cell_type": "code",
   "execution_count": null,
   "metadata": {},
   "outputs": [],
   "source": []
  }
 ],
 "metadata": {
  "kernelspec": {
   "display_name": "Python 3",
   "language": "python",
   "name": "python3"
  },
  "language_info": {
   "codemirror_mode": {
    "name": "ipython",
    "version": 3
   },
   "file_extension": ".py",
   "mimetype": "text/x-python",
   "name": "python",
   "nbconvert_exporter": "python",
   "pygments_lexer": "ipython3",
   "version": "3.7.6"
  }
 },
 "nbformat": 4,
 "nbformat_minor": 4
}
