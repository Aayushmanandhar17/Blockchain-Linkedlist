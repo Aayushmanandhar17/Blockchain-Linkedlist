{
 "cells": [
  {
   "cell_type": "code",
   "execution_count": 43,
   "metadata": {},
   "outputs": [],
   "source": [
    "#importing the date and time\n",
    "import datetime\n",
    "#Use to hash the block\n",
    "import hashlib\n",
    "#store the object\n",
    "import pickle"
   ]
  },
  {
   "cell_type": "code",
   "execution_count": 44,
   "metadata": {},
   "outputs": [],
   "source": [
    "class Node:\n",
    "    def __init__(self):\n",
    "        self.date=str(datetime.datetime.now())\n",
    "        self.previous_hash=None\n",
    "        self.nonce=None\n",
    "        self.ref=None"
   ]
  },
  {
   "cell_type": "code",
   "execution_count": 45,
   "metadata": {},
   "outputs": [],
   "source": [
    "class block_chain:\n",
    "    def __init__(self):\n",
    "        self.head=None\n",
    "    def create_first_block(self,node):\n",
    "        node.previous_hash=0\n",
    "        node.nonce=1\n",
    "        \n",
    "    def create_block(self):\n",
    "        new_node=Node()\n",
    "        if self.head is None:\n",
    "            self.create_first_block(new_node)\n",
    "            self.head=new_node\n",
    "            return\n",
    "        else:\n",
    "            n=self.head\n",
    "            while n.ref is not None:\n",
    "                n=n.ref\n",
    "            n.ref=new_node\n",
    "            new_node.nonce=self.mine_nonce(n.nonce)\n",
    "            new_node.previous_hash=self.block_hash(n)\n",
    "    \n",
    "    def block_hash(self,block):\n",
    "        hash_data=block.date+str(block.previous_hash)+str(block.nonce)\n",
    "        return hashlib.sha256(hash_data.encode()).hexdigest()\n",
    "    \n",
    "    def mine_nonce(self,previous_nonce):\n",
    "        new_nonce=1\n",
    "        check_nonce=False\n",
    "        while check_nonce is False:\n",
    "            #sha256 only takes string\n",
    "            hash_operation=hashlib.sha256(str((new_nonce**2*previous_nonce**2)//new_nonce).encode()).hexdigest()\n",
    "            if hash_operation[:5]=='00000':\n",
    "                check_nonce=True\n",
    "            else:\n",
    "                new_nonce +=1\n",
    "        \n",
    "        return new_nonce\n",
    "    \n",
    "    def traverse_block_chain(self):\n",
    "        if self.head is None:\n",
    "            print(\"The block_chain is empty\")\n",
    "            return\n",
    "        else:\n",
    "            n=self.head\n",
    "            self.print_node(n)\n",
    "            while n.ref is not None:\n",
    "                n=n.ref\n",
    "                self.print_node(n)\n",
    "    def validation(self):\n",
    "        if self.head is None:\n",
    "            print(\"The block_chain is empty\")\n",
    "            return\n",
    "        else:\n",
    "            n=self.head\n",
    "            i=0\n",
    "            while n.ref is not None:\n",
    "                if self.block_hash(n)!=n.ref.previous_hash:\n",
    "                    print(f\"The node in pos {i} has been tampered\")\n",
    "                    return False\n",
    "                \n",
    "                n=n.ref\n",
    "                i=i+1\n",
    "            return True\n",
    "    \n",
    "    def chain_size(self):\n",
    "        n=self.head\n",
    "        count=0\n",
    "        while n.ref is not None:\n",
    "            n=n.ref\n",
    "            count=count+1\n",
    "        return count\n",
    "    \n",
    "    def tamper_node(self,pos,nonce):\n",
    "       \n",
    "        if pos>self.chain_size():\n",
    "            print(\"Position out of bound\")\n",
    "            return\n",
    "        n=self.head\n",
    "        for i in range(pos):\n",
    "            n=n.ref\n",
    "        n.nonce=nonce\n",
    "        \n",
    "    def save_block_chain(self,filename=\"transaction.pkl\"):\n",
    "        with open(filename, 'wb') as output: \n",
    "            pickle.dump(self, output, pickle.HIGHEST_PROTOCOL)\n",
    "\n",
    "    def print_node(self,node):\n",
    "         print(f\"Date: {node.date} Nonce: {node.nonce} Previous_hash: {node.previous_hash}\")\n",
    "\n",
    "            "
   ]
  },
  {
   "cell_type": "code",
   "execution_count": 52,
   "metadata": {},
   "outputs": [],
   "source": [
    "my_chain=block_chain()\n"
   ]
  },
  {
   "cell_type": "code",
   "execution_count": 53,
   "metadata": {},
   "outputs": [],
   "source": [
    "\n",
    "my_chain.create_block()\n",
    "my_chain.create_block()\n",
    "my_chain.create_block()\n",
    "my_chain.create_block()\n",
    "my_chain.create_block()"
   ]
  },
  {
   "cell_type": "code",
   "execution_count": 54,
   "metadata": {},
   "outputs": [
    {
     "name": "stdout",
     "output_type": "stream",
     "text": [
      "Date: 2021-01-21 15:24:43.440158 Nonce: 1 Previous_hash: 0\n",
      "Date: 2021-01-21 15:24:43.440158 Nonce: 596138 Previous_hash: 34e9431b2fade7fee02b5b12dc6d435b409d94499fe226922c9dcf8773a6b769\n",
      "Date: 2021-01-21 15:24:44.795564 Nonce: 1413284 Previous_hash: 07c3e4721a5b4d83a604425c10326055959a0b25e0d2d6a80b5ee7949086409b\n",
      "Date: 2021-01-21 15:24:48.177524 Nonce: 64719 Previous_hash: 9daf01995b4033c486deea97a6b424b1bc93cbc453c7ed444e488d9619a7b400\n",
      "Date: 2021-01-21 15:24:48.335103 Nonce: 285826 Previous_hash: e4f5abf93195d453144352bfbac15dbaea557cb6f5e95402cb2a76d266d6f188\n"
     ]
    }
   ],
   "source": [
    "my_chain.traverse_block_chain()"
   ]
  },
  {
   "cell_type": "code",
   "execution_count": 55,
   "metadata": {},
   "outputs": [],
   "source": [
    "my_chain.save_block_chain()"
   ]
  },
  {
   "cell_type": "code",
   "execution_count": 56,
   "metadata": {},
   "outputs": [],
   "source": [
    "with open('transaction.pkl', 'rb') as input:\n",
    "    company1 = pickle.load(input)"
   ]
  },
  {
   "cell_type": "code",
   "execution_count": 57,
   "metadata": {},
   "outputs": [
    {
     "name": "stdout",
     "output_type": "stream",
     "text": [
      "Date: 2021-01-21 15:24:43.440158 Nonce: 1 Previous_hash: 0\n",
      "Date: 2021-01-21 15:24:43.440158 Nonce: 596138 Previous_hash: 34e9431b2fade7fee02b5b12dc6d435b409d94499fe226922c9dcf8773a6b769\n",
      "Date: 2021-01-21 15:24:44.795564 Nonce: 1413284 Previous_hash: 07c3e4721a5b4d83a604425c10326055959a0b25e0d2d6a80b5ee7949086409b\n",
      "Date: 2021-01-21 15:24:48.177524 Nonce: 64719 Previous_hash: 9daf01995b4033c486deea97a6b424b1bc93cbc453c7ed444e488d9619a7b400\n",
      "Date: 2021-01-21 15:24:48.335103 Nonce: 285826 Previous_hash: e4f5abf93195d453144352bfbac15dbaea557cb6f5e95402cb2a76d266d6f188\n"
     ]
    }
   ],
   "source": [
    "company1.traverse_block_chain()"
   ]
  },
  {
   "cell_type": "code",
   "execution_count": null,
   "metadata": {},
   "outputs": [],
   "source": []
  }
 ],
 "metadata": {
  "kernelspec": {
   "display_name": "Python 3",
   "language": "python",
   "name": "python3"
  },
  "language_info": {
   "codemirror_mode": {
    "name": "ipython",
    "version": 3
   },
   "file_extension": ".py",
   "mimetype": "text/x-python",
   "name": "python",
   "nbconvert_exporter": "python",
   "pygments_lexer": "ipython3",
   "version": "3.7.6"
  }
 },
 "nbformat": 4,
 "nbformat_minor": 4
}
